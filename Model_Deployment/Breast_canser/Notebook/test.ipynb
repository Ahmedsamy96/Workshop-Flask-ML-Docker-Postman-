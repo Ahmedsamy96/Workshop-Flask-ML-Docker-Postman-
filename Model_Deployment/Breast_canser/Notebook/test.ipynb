{
 "cells": [
  {
   "cell_type": "code",
   "execution_count": 1,
   "id": "cb6685f5",
   "metadata": {},
   "outputs": [],
   "source": [
    "import joblib\n",
    "import pandas as pd\n",
    "from sklearn.model_selection import train_test_split\n"
   ]
  },
  {
   "cell_type": "code",
   "execution_count": 2,
   "id": "c4537918",
   "metadata": {},
   "outputs": [],
   "source": [
    "model = joblib.load('model.pkl')\n",
    "dataset = \"C://Users//SAMY//Desktop//Workshop//Model_Deployment//Breast_canser//Dataset//data.csv\"\n",
    "df = pd.read_csv(dataset).drop(['id','Unnamed: 32'],axis=1)\n",
    "df['diagnosis'] = df['diagnosis'].str.replace('M','1')\n",
    "df['diagnosis'] = df['diagnosis'].str.replace('B','0')\n",
    "df = df.rename(columns={'diagnosis':'Target'})\n",
    "y = df['Target'].astype(int)\n",
    "X = df.drop('Target' , axis = 1)\n",
    "X_train , X_test , y_train , y_test = train_test_split(X ,y , test_size=0.2 , random_state=5)"
   ]
  },
  {
   "cell_type": "code",
   "execution_count": 3,
   "id": "6671291f",
   "metadata": {},
   "outputs": [
    {
     "data": {
      "text/html": [
       "<div>\n",
       "<style scoped>\n",
       "    .dataframe tbody tr th:only-of-type {\n",
       "        vertical-align: middle;\n",
       "    }\n",
       "\n",
       "    .dataframe tbody tr th {\n",
       "        vertical-align: top;\n",
       "    }\n",
       "\n",
       "    .dataframe thead th {\n",
       "        text-align: right;\n",
       "    }\n",
       "</style>\n",
       "<table border=\"1\" class=\"dataframe\">\n",
       "  <thead>\n",
       "    <tr style=\"text-align: right;\">\n",
       "      <th></th>\n",
       "      <th>radius_mean</th>\n",
       "      <th>texture_mean</th>\n",
       "      <th>perimeter_mean</th>\n",
       "      <th>area_mean</th>\n",
       "      <th>smoothness_mean</th>\n",
       "      <th>compactness_mean</th>\n",
       "      <th>concavity_mean</th>\n",
       "      <th>concave points_mean</th>\n",
       "      <th>symmetry_mean</th>\n",
       "      <th>fractal_dimension_mean</th>\n",
       "      <th>...</th>\n",
       "      <th>radius_worst</th>\n",
       "      <th>texture_worst</th>\n",
       "      <th>perimeter_worst</th>\n",
       "      <th>area_worst</th>\n",
       "      <th>smoothness_worst</th>\n",
       "      <th>compactness_worst</th>\n",
       "      <th>concavity_worst</th>\n",
       "      <th>concave points_worst</th>\n",
       "      <th>symmetry_worst</th>\n",
       "      <th>fractal_dimension_worst</th>\n",
       "    </tr>\n",
       "  </thead>\n",
       "  <tbody>\n",
       "    <tr>\n",
       "      <th>206</th>\n",
       "      <td>9.876</td>\n",
       "      <td>17.27</td>\n",
       "      <td>62.92</td>\n",
       "      <td>295.4</td>\n",
       "      <td>0.1089</td>\n",
       "      <td>0.07232</td>\n",
       "      <td>0.01756</td>\n",
       "      <td>0.01952</td>\n",
       "      <td>0.1934</td>\n",
       "      <td>0.06285</td>\n",
       "      <td>...</td>\n",
       "      <td>10.42</td>\n",
       "      <td>23.22</td>\n",
       "      <td>67.08</td>\n",
       "      <td>331.6</td>\n",
       "      <td>0.1415</td>\n",
       "      <td>0.1247</td>\n",
       "      <td>0.06213</td>\n",
       "      <td>0.05588</td>\n",
       "      <td>0.2989</td>\n",
       "      <td>0.0738</td>\n",
       "    </tr>\n",
       "  </tbody>\n",
       "</table>\n",
       "<p>1 rows × 30 columns</p>\n",
       "</div>"
      ],
      "text/plain": [
       "     radius_mean  texture_mean  perimeter_mean  area_mean  smoothness_mean  \\\n",
       "206        9.876         17.27           62.92      295.4           0.1089   \n",
       "\n",
       "     compactness_mean  concavity_mean  concave points_mean  symmetry_mean  \\\n",
       "206           0.07232         0.01756              0.01952         0.1934   \n",
       "\n",
       "     fractal_dimension_mean  ...  radius_worst  texture_worst  \\\n",
       "206                 0.06285  ...         10.42          23.22   \n",
       "\n",
       "     perimeter_worst  area_worst  smoothness_worst  compactness_worst  \\\n",
       "206            67.08       331.6            0.1415             0.1247   \n",
       "\n",
       "     concavity_worst  concave points_worst  symmetry_worst  \\\n",
       "206          0.06213               0.05588          0.2989   \n",
       "\n",
       "     fractal_dimension_worst  \n",
       "206                   0.0738  \n",
       "\n",
       "[1 rows x 30 columns]"
      ]
     },
     "execution_count": 3,
     "metadata": {},
     "output_type": "execute_result"
    }
   ],
   "source": [
    "data = X_train.iloc[-1:,:]\n",
    "data\n",
    " "
   ]
  },
  {
   "cell_type": "code",
   "execution_count": 4,
   "id": "11a1f75e",
   "metadata": {},
   "outputs": [
    {
     "data": {
      "text/plain": [
       "{'radius_mean': {206: 9.876},\n",
       " 'texture_mean': {206: 17.27},\n",
       " 'perimeter_mean': {206: 62.92},\n",
       " 'area_mean': {206: 295.4},\n",
       " 'smoothness_mean': {206: 0.1089},\n",
       " 'compactness_mean': {206: 0.07232},\n",
       " 'concavity_mean': {206: 0.01756},\n",
       " 'concave points_mean': {206: 0.01952},\n",
       " 'symmetry_mean': {206: 0.1934},\n",
       " 'fractal_dimension_mean': {206: 0.06285},\n",
       " 'radius_se': {206: 0.2137},\n",
       " 'texture_se': {206: 1.342},\n",
       " 'perimeter_se': {206: 1.517},\n",
       " 'area_se': {206: 12.33},\n",
       " 'smoothness_se': {206: 0.009719},\n",
       " 'compactness_se': {206: 0.01249},\n",
       " 'concavity_se': {206: 0.007975},\n",
       " 'concave points_se': {206: 0.007527},\n",
       " 'symmetry_se': {206: 0.0221},\n",
       " 'fractal_dimension_se': {206: 0.002472},\n",
       " 'radius_worst': {206: 10.42},\n",
       " 'texture_worst': {206: 23.22},\n",
       " 'perimeter_worst': {206: 67.08},\n",
       " 'area_worst': {206: 331.6},\n",
       " 'smoothness_worst': {206: 0.1415},\n",
       " 'compactness_worst': {206: 0.1247},\n",
       " 'concavity_worst': {206: 0.06213},\n",
       " 'concave points_worst': {206: 0.05588},\n",
       " 'symmetry_worst': {206: 0.2989},\n",
       " 'fractal_dimension_worst': {206: 0.0738}}"
      ]
     },
     "execution_count": 4,
     "metadata": {},
     "output_type": "execute_result"
    }
   ],
   "source": [
    "import json\n",
    "result = data.to_dict()\n",
    "#parsed = json.loads(result)\n",
    "#json.dumps(parsed) \n",
    "result"
   ]
  },
  {
   "cell_type": "code",
   "execution_count": 5,
   "id": "1793935a",
   "metadata": {},
   "outputs": [
    {
     "name": "stderr",
     "output_type": "stream",
     "text": [
      "C:\\Users\\SAMY\\anaconda3\\envs\\breast_cancer\\lib\\site-packages\\sklearn\\base.py:439: UserWarning: X has feature names, but SVC was fitted without feature names\n",
      "  f\"X has feature names, but {self.__class__.__name__} was fitted without\"\n"
     ]
    }
   ],
   "source": [
    "pred = model.predict(data)"
   ]
  },
  {
   "cell_type": "code",
   "execution_count": 6,
   "id": "4ae46810",
   "metadata": {},
   "outputs": [
    {
     "data": {
      "text/plain": [
       "1"
      ]
     },
     "execution_count": 6,
     "metadata": {},
     "output_type": "execute_result"
    }
   ],
   "source": [
    "pred[0]"
   ]
  },
  {
   "cell_type": "code",
   "execution_count": 7,
   "id": "1d242a8d",
   "metadata": {},
   "outputs": [
    {
     "data": {
      "text/plain": [
       "{'data': [{'radius_mean': 9.876,\n",
       "   'texture_mean': 17.27,\n",
       "   'perimeter_mean': 62.92,\n",
       "   'area_mean': 295.4,\n",
       "   'smoothness_mean': 0.1089,\n",
       "   'compactness_mean': 0.07232,\n",
       "   'concavity_mean': 0.01756,\n",
       "   'concave points_mean': 0.01952,\n",
       "   'symmetry_mean': 0.1934,\n",
       "   'fractal_dimension_mean': 0.06285,\n",
       "   'radius_se': 0.2137,\n",
       "   'texture_se': 1.342,\n",
       "   'perimeter_se': 1.517,\n",
       "   'area_se': 12.33,\n",
       "   'smoothness_se': 0.009719,\n",
       "   'compactness_se': 0.01249,\n",
       "   'concavity_se': 0.007975,\n",
       "   'concave points_se': 0.007527,\n",
       "   'symmetry_se': 0.0221,\n",
       "   'fractal_dimension_se': 0.002472,\n",
       "   'radius_worst': 10.42,\n",
       "   'texture_worst': 23.22,\n",
       "   'perimeter_worst': 67.08,\n",
       "   'area_worst': 331.6,\n",
       "   'smoothness_worst': 0.1415,\n",
       "   'compactness_worst': 0.1247,\n",
       "   'concavity_worst': 0.06213,\n",
       "   'concave points_worst': 0.05588,\n",
       "   'symmetry_worst': 0.2989,\n",
       "   'fractal_dimension_worst': 0.0738}]}"
      ]
     },
     "execution_count": 7,
     "metadata": {},
     "output_type": "execute_result"
    }
   ],
   "source": [
    "{\"data\" : \n",
    "\n",
    "[{\"radius_mean\": 9.876,\n",
    " \"texture_mean\": 17.27,\n",
    " \"perimeter_mean\": 62.92,\n",
    " \"area_mean\": 295.4,\n",
    " \"smoothness_mean\": 0.1089,\n",
    " \"compactness_mean\":  0.07232,\n",
    " \"concavity_mean\":  0.01756,\n",
    " \"concave points_mean\" : 0.01952,\n",
    " \"symmetry_mean\": 0.1934,\n",
    " \"fractal_dimension_mean\": 0.06285,\n",
    " \"radius_se\": 0.2137,\n",
    " \"texture_se\": 1.342,\n",
    " \"perimeter_se\": 1.517,\n",
    " \"area_se\": 12.33,\n",
    " \"smoothness_se\": 0.009719,\n",
    " \"compactness_se\": 0.01249,\n",
    " \"concavity_se\": 0.007975,\n",
    " \"concave points_se\" : 0.007527,\n",
    " \"symmetry_se\": 0.0221,\n",
    " \"fractal_dimension_se\": 0.002472,\n",
    " \"radius_worst\": 10.42,\n",
    " \"texture_worst\": 23.22,\n",
    " \"perimeter_worst\":  67.08,\n",
    " \"area_worst\": 331.6,\n",
    " \"smoothness_worst\": 0.1415,\n",
    " \"compactness_worst\": 0.1247,\n",
    " \"concavity_worst\":  0.06213,\n",
    " \"concave points_worst\": 0.05588,\n",
    " \"symmetry_worst\": 0.2989,\n",
    " \"fractal_dimension_worst\": 0.0738\n",
    "}  \n",
    " \n",
    " ]}"
   ]
  },
  {
   "cell_type": "code",
   "execution_count": null,
   "id": "aacf33c3",
   "metadata": {},
   "outputs": [],
   "source": []
  }
 ],
 "metadata": {
  "kernelspec": {
   "display_name": "Python 3 (ipykernel)",
   "language": "python",
   "name": "python3"
  },
  "language_info": {
   "codemirror_mode": {
    "name": "ipython",
    "version": 3
   },
   "file_extension": ".py",
   "mimetype": "text/x-python",
   "name": "python",
   "nbconvert_exporter": "python",
   "pygments_lexer": "ipython3",
   "version": "3.7.11"
  }
 },
 "nbformat": 4,
 "nbformat_minor": 5
}
